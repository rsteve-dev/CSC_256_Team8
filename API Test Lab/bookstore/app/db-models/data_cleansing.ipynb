{
 "cells": [
  {
   "cell_type": "code",
   "execution_count": 1,
   "metadata": {},
   "outputs": [],
   "source": [
    "import json\n",
    "import os\n",
    "import csv\n",
    "\n"
   ]
  },
  {
   "cell_type": "code",
   "execution_count": 2,
   "metadata": {},
   "outputs": [],
   "source": [
    "def add_unique_id_to_csvdata(file_path, unique_id_header=str):\n",
    "    new_data = []\n",
    "    # convert csv to json\n",
    "    with open(file_path, encoding=\"utf-8\") as csvfile:\n",
    "        csvReader = csv.DictReader(csvfile)\n",
    "        firstInit = \"\"\n",
    "        secondInit = \"\"\n",
    "        num = 0\n",
    "        # uniq_num = f\"00{num}\"\n",
    "        userID = \"\"\n",
    "        for row in csvReader:\n",
    "            num = num + 1\n",
    "            uniq_num = f\"00{num}\"\n",
    "            for key, value in row.items():\n",
    "                if key == \"first_name\":\n",
    "                    firstInit = value[0]\n",
    "\n",
    "                    # print(firstInit)\n",
    "                if key == \"last_name\":\n",
    "                    secondInit = value[0]\n",
    "            userID = firstInit + secondInit + uniq_num\n",
    "            helperdict = {unique_id_header: userID}\n",
    "            new_row = {**helperdict, **row}\n",
    "            new_data.append(new_row)\n",
    "            # print(new_row)\n",
    "    return new_data"
   ]
  },
  {
   "cell_type": "code",
   "execution_count": 3,
   "metadata": {},
   "outputs": [
    {
     "data": {
      "text/plain": [
       "'write_data_to_existing_csv(\\n    add_unique_id_to_csvdata(file_path, \"userID\"), users_file_path\\n)\\nfor each_item in add_unique_id_to_csvdata(file_path, \"userID\"):\\n    for key, values in each_item.items():\\n        print(\"keys\", key)'"
      ]
     },
     "execution_count": 3,
     "metadata": {},
     "output_type": "execute_result"
    }
   ],
   "source": [
    "# write the adjusted userdata to users.csv file\n",
    "def write_data_to_existing_csv(list_of_dictionary_with_data, file_path):\n",
    "    list_of_headers = []\n",
    "    for each_item in list_of_dictionary_with_data:\n",
    "        header_list = [key for key, value in each_item.items()]\n",
    "        list_of_headers = header_list\n",
    "    #print(list_of_headers)\n",
    "    with open(file_path, \"w\", newline=\"\") as csvfile:\n",
    "        writer = csv.DictWriter(csvfile, fieldnames=list_of_headers)\n",
    "        writer.writeheader()\n",
    "        writer.writerows(list_of_dictionary_with_data)\n",
    "\n",
    "\n",
    "\"\"\"write_data_to_existing_csv(\n",
    "    add_unique_id_to_csvdata(file_path, \"userID\"), users_file_path\n",
    ")\n",
    "for each_item in add_unique_id_to_csvdata(file_path, \"userID\"):\n",
    "    for key, values in each_item.items():\n",
    "        print(\"keys\", key)\"\"\""
   ]
  },
  {
   "cell_type": "code",
   "execution_count": 4,
   "metadata": {},
   "outputs": [],
   "source": [
    "file_path = \"./random_users.csv\"\n",
    "users_file_path = \"./users.csv\"\n",
    "new_dictionary_users = add_unique_id_to_csvdata(file_path, \"userID\")\n",
    "write_data_to_existing_csv(new_dictionary_users, users_file_path)\n",
    "\n",
    "# print(f\"new_data: { add_unique_id_to_csvdata(file_path,'userID')}\")"
   ]
  },
  {
   "cell_type": "code",
   "execution_count": 6,
   "metadata": {},
   "outputs": [],
   "source": [
    "ile_path = \"./test_user.csv\"\n",
    "\n",
    "\n",
    "def create_file(filepath,add_content):\n",
    "    with open(filepath, \"a\") as file:\n",
    "        file.write(\"Adding some text to the file.\\n\")\n",
    "\n",
    "\n",
    "create_file(ile_path)"
   ]
  }
 ],
 "metadata": {
  "kernelspec": {
   "display_name": "Python 3",
   "language": "python",
   "name": "python3"
  },
  "language_info": {
   "codemirror_mode": {
    "name": "ipython",
    "version": 3
   },
   "file_extension": ".py",
   "mimetype": "text/x-python",
   "name": "python",
   "nbconvert_exporter": "python",
   "pygments_lexer": "ipython3",
   "version": "3.11.1"
  }
 },
 "nbformat": 4,
 "nbformat_minor": 2
}
